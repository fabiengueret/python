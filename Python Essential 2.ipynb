{
 "cells": [
  {
   "cell_type": "markdown",
   "metadata": {},
   "source": [
    "# Python Programming: Essentials 2\n"
   ]
  },
  {
   "cell_type": "markdown",
   "metadata": {},
   "source": [
    "## While loop\n",
    "\n",
    "Repeat a block of code as long as a certain condition is true"
   ]
  },
  {
   "cell_type": "code",
   "execution_count": null,
   "metadata": {},
   "outputs": [],
   "source": [
    "# A simple while loop \n",
    "\n",
    "#initialisation\n",
    "count = 0\n",
    "\n",
    "# loop\n",
    "while (count < 9):\n",
    "   print('The count is:', count)\n",
    "   #count = count + 1\n",
    "   count += 1\n",
    "print (\"Good bye!\")\n",
    "\n",
    "# += -= /= *= **= %= //="
   ]
  },
  {
   "cell_type": "code",
   "execution_count": null,
   "metadata": {},
   "outputs": [],
   "source": [
    "# write the code to do the same thing but backwards from 9 to 1\n",
    "\n",
    "#initialisation\n",
    "counter = 9\n",
    "\n",
    "# loop\n",
    "while (counter >0):\n",
    "   print('The count is:', counter)\n",
    "   counter = counter - 1\n",
    "\n",
    "print (\"Good bye!\")"
   ]
  },
  {
   "cell_type": "code",
   "execution_count": null,
   "metadata": {},
   "outputs": [],
   "source": [
    "# let's write code that takes a string and writes it backwards\n",
    "\n",
    "#initialisation\n",
    "sentence = \"Python is fantastic\"\n",
    "back_sentence = ''\n",
    "pos = len(sentence)-1\n",
    "print(counter)"
   ]
  },
  {
   "cell_type": "code",
   "execution_count": null,
   "metadata": {},
   "outputs": [],
   "source": [
    "print(sentence[18])"
   ]
  },
  {
   "cell_type": "code",
   "execution_count": null,
   "metadata": {},
   "outputs": [],
   "source": [
    "# loop\n",
    "while (pos >=0):\n",
    "    # print(sentence[pos])\n",
    "    back_sentence = back_sentence + sentence[pos]\n",
    "    pos = pos - 1\n",
    "\n",
    "print(back_sentence)\n",
    "\n",
    "#citsatnaf si nohtyP\n",
    "\n",
    "# Advice: counter please at the bottom of the loop "
   ]
  },
  {
   "cell_type": "code",
   "execution_count": null,
   "metadata": {},
   "outputs": [],
   "source": []
  },
  {
   "cell_type": "code",
   "execution_count": null,
   "metadata": {},
   "outputs": [],
   "source": [
    "# Letting the user choose when to quit \n",
    "\n",
    "msg = ''\n",
    "while msg != 'quit': \n",
    "    msg = input(\"What's your message? \") \n",
    "    print(msg)\n",
    "    "
   ]
  },
  {
   "cell_type": "markdown",
   "metadata": {},
   "source": [
    "## Function\n",
    "\n",
    "Functions are named blocks of code, designed to do one specific job. \n",
    "\n",
    "Information passed to a function is called an argument\n",
    "\n",
    "Information received by a function is called a parameter"
   ]
  },
  {
   "cell_type": "code",
   "execution_count": null,
   "metadata": {},
   "outputs": [],
   "source": [
    "# A simple function\n",
    "\n",
    "###### defining what the function does\n",
    "\n",
    "def greet_user():  # defining/ naming the function\n",
    "    \"\"\"Display a simple greeting.\"\"\" \n",
    "    print(\"Hello! Fabien\")\n",
    "    "
   ]
  },
  {
   "cell_type": "code",
   "execution_count": null,
   "metadata": {},
   "outputs": [],
   "source": [
    "##### testing of the function   \n",
    "greet_user() "
   ]
  },
  {
   "cell_type": "code",
   "execution_count": null,
   "metadata": {},
   "outputs": [],
   "source": [
    "# Passing an argument\n",
    "# explain here what the function does and what format the attribute must be:\n",
    "# greet_user2 prints a message addressed to the username, username is a string\n",
    "def greet_user2(username): \n",
    "    \"\"\"Display a personalized greeting.\"\"\" \n",
    "    print(\"Hello, \" + username + \"!\") \n",
    "    print(\"that's passing an argument to a function\")\n",
    "    "
   ]
  },
  {
   "cell_type": "code",
   "execution_count": null,
   "metadata": {},
   "outputs": [],
   "source": [
    "#Testing of the function\n",
    "greet_user2('Mamadou') \n",
    "greet_user2('Maria')"
   ]
  },
  {
   "cell_type": "code",
   "execution_count": null,
   "metadata": {},
   "outputs": [],
   "source": [
    "# write a function that takes a string and writes it backwards\n",
    "def backstring(sentence):    \n",
    "    #initialisation\n",
    "    back_sentence = ''\n",
    "    pos = len(sentence)-1\n",
    "    \n",
    "    # loop\n",
    "    while (pos >=0):\n",
    "        back_sentence = back_sentence + sentence[pos] \n",
    "        #pos = pos - 1\n",
    "        pos -= 1\n",
    "    print(back_sentence)    "
   ]
  },
  {
   "cell_type": "code",
   "execution_count": null,
   "metadata": {},
   "outputs": [],
   "source": [
    "# Testing the function\n",
    "backstring(\"Thursday on python\")"
   ]
  },
  {
   "cell_type": "code",
   "execution_count": null,
   "metadata": {},
   "outputs": [],
   "source": [
    "backstring(\"\")"
   ]
  },
  {
   "cell_type": "code",
   "execution_count": null,
   "metadata": {},
   "outputs": [],
   "source": [
    "# Default values for parameters \n",
    "def make_pizza(topping='pepperoni'):\n",
    "    \"\"\"Make a single-topping pizza.\"\"\" \n",
    "    print(\"Have a \" + topping + \" pizza!\") \n"
   ]
  },
  {
   "cell_type": "code",
   "execution_count": null,
   "metadata": {},
   "outputs": [],
   "source": [
    "#testing the function    \n",
    "make_pizza() "
   ]
  },
  {
   "cell_type": "code",
   "execution_count": null,
   "metadata": {},
   "outputs": [],
   "source": [
    "make_pizza('artichokes') "
   ]
  },
  {
   "cell_type": "code",
   "execution_count": null,
   "metadata": {},
   "outputs": [],
   "source": [
    "# Returning a value\n",
    "def add_numbers(x, y):\n",
    "     return x + y"
   ]
  },
  {
   "cell_type": "code",
   "execution_count": null,
   "metadata": {},
   "outputs": [],
   "source": [
    "result = add_numbers(5,4)\n",
    "print(result)"
   ]
  },
  {
   "cell_type": "code",
   "execution_count": null,
   "metadata": {},
   "outputs": [],
   "source": [
    "# Converter\n",
    "# Write a function that converts feets and yards into inches\n",
    "def inches(x,y=0):\n",
    "    return x * 12 + y * 36\n"
   ]
  },
  {
   "cell_type": "code",
   "execution_count": null,
   "metadata": {},
   "outputs": [],
   "source": [
    "# testing \n",
    "length = inches(4)\n",
    "print(length)"
   ]
  },
  {
   "cell_type": "markdown",
   "metadata": {},
   "source": [
    "## Class / Advanced\n",
    "\n",
    "A class defines the behavior of an object and the kind of information an object can store\n",
    "\n",
    "### methods\n",
    "The information in a class is stored in attributes, and functions that belong to a class are called methods\n",
    "\n",
    "A child class inherits the attributes and methods from its parent class   \n",
    "    "
   ]
  },
  {
   "cell_type": "code",
   "execution_count": null,
   "metadata": {},
   "outputs": [],
   "source": [
    "# Creating a dog class \n",
    "class Dog(): \n",
    "    \"\"\"Represents a dog\"\"\" \n",
    "    def __init__(self, name): \n",
    "        \"\"\"Initialize dog object\"\"\" \n",
    "        self.name = name \n",
    "    def sit(self):\n",
    "        \"\"\"Simulate sitting.\"\"\" \n",
    "        print(self.name + \" is sitting.\") "
   ]
  },
  {
   "cell_type": "code",
   "execution_count": null,
   "metadata": {},
   "outputs": [],
   "source": [
    "class Car(): \n",
    "    \"\"\"Represents a car\"\"\" \n",
    "    def __init__(self, model, year, colour): \n",
    "        \"\"\"Initialize dog object\"\"\" \n",
    "        self.model = model\n",
    "        self.year = year\n",
    "        self.colour = colour\n",
    "    def sell(self):\n",
    "        \"\"\"Simulate sitting.\"\"\" \n",
    "        print(self.model + \" is just £20k\") "
   ]
  },
  {
   "cell_type": "code",
   "execution_count": null,
   "metadata": {},
   "outputs": [],
   "source": [
    "# creating 1 instance of the class\n",
    "my_dog = Dog('Peso') # initialisation\n",
    "# my_list = [1,2,3,4]"
   ]
  },
  {
   "cell_type": "code",
   "execution_count": null,
   "metadata": {},
   "outputs": [],
   "source": [
    "my_car = Car('3 Sport',2014, 'Blue')\n",
    "my_car.colour "
   ]
  },
  {
   "cell_type": "code",
   "execution_count": null,
   "metadata": {},
   "outputs": [],
   "source": [
    "my_car.sell()"
   ]
  },
  {
   "cell_type": "code",
   "execution_count": null,
   "metadata": {},
   "outputs": [],
   "source": [
    "print(my_dog.name + \" is a great dog!\") "
   ]
  },
  {
   "cell_type": "code",
   "execution_count": null,
   "metadata": {},
   "outputs": [],
   "source": [
    "my_dog.sit()\n",
    "# very similiar my_list.append()"
   ]
  },
  {
   "cell_type": "code",
   "execution_count": null,
   "metadata": {},
   "outputs": [],
   "source": [
    "# Inheritance \n",
    "class SARDog(Dog): \n",
    "    \"\"\"Represent a search dog.\"\"\" \n",
    "    def __init__(self, name): \n",
    "        \"\"\"Initialize the sardog.\"\"\" \n",
    "        super().__init__(name) \n",
    "        \n",
    "    def search(self): \n",
    "        \"\"\"Simulate searching\"\"\" \n",
    "        print(self.name + \" is searching\") "
   ]
  },
  {
   "cell_type": "code",
   "execution_count": null,
   "metadata": {},
   "outputs": [],
   "source": [
    "#instance \n",
    "my_dog = SARDog('Willie') \n",
    "print(my_dog.name + \" is a search dog.\") \n",
    "my_dog.sit() \n",
    "my_dog.search()"
   ]
  },
  {
   "cell_type": "markdown",
   "metadata": {},
   "source": [
    "## Files handling\n",
    "\n",
    "Your programs can read from files and write to files. \n",
    "\n",
    "Files are opened in read mode ('r') by default, \n",
    "but can also be opened in write mode ('w') \n",
    "and append mode ('a')"
   ]
  },
  {
   "cell_type": "code",
   "execution_count": 1,
   "metadata": {},
   "outputs": [
    {
     "name": "stdout",
     "output_type": "stream",
     "text": [
      "[\"Trump insists he has 'absolute right' to use emergency powers over wall\", \"Debenhams' share price plunges 18 per cent following shock boardroom coup\", \"Brexit 'likely to be delayed beyond 29 March'\", 'Haymarket profits fall as it eyes up e-commerce push', 'CITY AM']\n"
     ]
    }
   ],
   "source": [
    "# saved a text file in a location\n",
    "# in windows explorer find the file / right click / properties / copy paste the directory address\n",
    "# then converted backslash  into forward slash\n",
    "# Reading a file and storing its lines \n",
    "\n",
    "filename = 'C:/Users/Pairview Ltd/Desktop/Python 1 Course/todaycityam.txt' \n",
    "# director address copied below\n",
    "# \n",
    "\n",
    "#create an empty list as initialisation\n",
    "final_lines=[]\n",
    "\n",
    "with open(filename) as file_object: # opens the file\n",
    "    lines = file_object.readlines()  # reads the files lines (collection of lines)\n",
    "    #print(lines)\n",
    "    for line in lines: # reading the lines one by one\n",
    "        line = line.rstrip() # removes the new line \\n\n",
    "        # print(line) \n",
    "        final_lines.append(line)\n",
    "        \n",
    "print(final_lines)"
   ]
  },
  {
   "cell_type": "code",
   "execution_count": 2,
   "metadata": {},
   "outputs": [],
   "source": [
    "# Writing to a file\n",
    "\n",
    "filename = 'C:/Users/Pairview Ltd/Desktop/the_python_song.txt' \n",
    "with open(filename, 'w') as file_object: # the 'w' means overwrite\n",
    "    file_object.write(\"I love programming in Python \\nI like its clear code \\nI like its class \\nI love scraping in Python\")\n",
    "# \\n back slash n is a new line = return or enter on your keyboard    "
   ]
  },
  {
   "cell_type": "code",
   "execution_count": 3,
   "metadata": {},
   "outputs": [],
   "source": [
    "# Appending to a file\n",
    "\n",
    "filename = 'C:/Users/Pairview Ltd/Desktop/the_python_song.txt' \n",
    "with open(filename, 'a') as file_object: # the 'a' means append\n",
    "    file_object.write(\"\\nAnd I want to use it for Machine Learning\")\n",
    "    \n",
    "    "
   ]
  },
  {
   "cell_type": "code",
   "execution_count": 4,
   "metadata": {},
   "outputs": [
    {
     "name": "stdout",
     "output_type": "stream",
     "text": [
      "39\n"
     ]
    }
   ],
   "source": [
    "# Aside about dates\n",
    "from datetime import date # super dupper library dealing wth everything date and time\n",
    "import datetime\n",
    "\n",
    "d0 = date(2008, 8, 18)\n",
    "d1 = date(2008, 9, 26)\n",
    "delta = d1 - d0\n",
    "print(delta.days)"
   ]
  },
  {
   "cell_type": "code",
   "execution_count": 8,
   "metadata": {},
   "outputs": [],
   "source": [
    "import json\n",
    "\n",
    "data={\n",
    "    'name': 'ACME',\n",
    "    'shares' : 100,\n",
    "    'price': 542.23\n",
    "}\n",
    "\n",
    "# Writing JSON data\n",
    "with open ('data.json', 'w') as f:\n",
    "    json.dump(data,f)"
   ]
  },
  {
   "cell_type": "code",
   "execution_count": 9,
   "metadata": {},
   "outputs": [
    {
     "name": "stdout",
     "output_type": "stream",
     "text": [
      "dict_keys(['name', 'shares', 'price'])\n"
     ]
    }
   ],
   "source": [
    "# Reading data back\n",
    "with open('data.json', 'r') as f:\n",
    "     data = json.load(f)\n",
    "    \n",
    "print(data.keys())"
   ]
  },
  {
   "cell_type": "code",
   "execution_count": null,
   "metadata": {},
   "outputs": [],
   "source": [
    "# Research SQLite\n",
    "import SQlite"
   ]
  },
  {
   "cell_type": "code",
   "execution_count": null,
   "metadata": {},
   "outputs": [],
   "source": [
    "# there is a module for accessing Microsoft SQL / Complex matter\n",
    "import pyodbc \n",
    "'''\n",
    "cnxn = pyodbc.connect(\"Driver={SQL Server Native Client 11.0};\"\n",
    "                      \"Server=server_name;\"\n",
    "                      \"Database=db_name;\"\n",
    "                      \"Trusted_Connection=yes;\")\n",
    "\n",
    "\n",
    "cursor = cnxn.cursor()\n",
    "cursor.execute('SELECT * FROM Table')\n",
    "\n",
    "for row in cursor:\n",
    "    print('row = %r' % (row,))\n",
    "    \n",
    "'''"
   ]
  },
  {
   "cell_type": "markdown",
   "metadata": {},
   "source": [
    "## Exceptions\n",
    "\n",
    "They help you respond appropriately to errors that are likely to occur.\n",
    "\n",
    "You place code that might cause an error in the try block. \n",
    "\n",
    "Code that should run in response to an error goes in the except block. \n",
    "\n",
    "Code that should run only if the try block was successful goes in the else block. "
   ]
  },
  {
   "cell_type": "code",
   "execution_count": 4,
   "metadata": {},
   "outputs": [
    {
     "name": "stdout",
     "output_type": "stream",
     "text": [
      "How many tickets do you need? 1.6\n"
     ]
    },
    {
     "ename": "ValueError",
     "evalue": "invalid literal for int() with base 10: '1.6'",
     "output_type": "error",
     "traceback": [
      "\u001b[1;31m---------------------------------------------------------------------------\u001b[0m",
      "\u001b[1;31mValueError\u001b[0m                                Traceback (most recent call last)",
      "\u001b[1;32m<ipython-input-4-c0fb6c763e22>\u001b[0m in \u001b[0;36m<module>\u001b[1;34m()\u001b[0m\n\u001b[0;32m      2\u001b[0m \u001b[0mnum_tickets\u001b[0m \u001b[1;33m=\u001b[0m \u001b[0minput\u001b[0m\u001b[1;33m(\u001b[0m\u001b[0mprompt\u001b[0m\u001b[1;33m)\u001b[0m\u001b[1;33m\u001b[0m\u001b[0m\n\u001b[0;32m      3\u001b[0m \u001b[1;33m\u001b[0m\u001b[0m\n\u001b[1;32m----> 4\u001b[1;33m \u001b[0mnum_tickets\u001b[0m \u001b[1;33m=\u001b[0m \u001b[0mint\u001b[0m\u001b[1;33m(\u001b[0m\u001b[0mnum_tickets\u001b[0m\u001b[1;33m)\u001b[0m\u001b[1;33m\u001b[0m\u001b[0m\n\u001b[0m",
      "\u001b[1;31mValueError\u001b[0m: invalid literal for int() with base 10: '1.6'"
     ]
    }
   ],
   "source": [
    "prompt = \"How many tickets do you need? \" \n",
    "num_tickets = input(prompt) \n",
    "\n",
    "num_tickets = int(num_tickets)"
   ]
  },
  {
   "cell_type": "code",
   "execution_count": 3,
   "metadata": {},
   "outputs": [
    {
     "name": "stdout",
     "output_type": "stream",
     "text": [
      "How many tickets do you need? 5\n",
      "Your tickets are printing.\n"
     ]
    }
   ],
   "source": [
    "# Catching an exception when trying to convert an input\n",
    "prompt = \"How many tickets do you need? \" \n",
    "num_tickets = input(prompt) \n",
    "\n",
    "try: \n",
    "    num_tickets = int(num_tickets)\n",
    "\n",
    "except ValueError: \n",
    "    print(\"Please try again.\") \n",
    "\n",
    "else: print(\"Your tickets are printing.\")\n",
    "    \n",
    "    "
   ]
  },
  {
   "cell_type": "code",
   "execution_count": 5,
   "metadata": {},
   "outputs": [
    {
     "name": "stdout",
     "output_type": "stream",
     "text": [
      "How many tickets do you need? five\n",
      "Please try again.\n",
      "How many tickets do you need? 5.5\n",
      "Please try again.\n",
      "How many tickets do you need? 5\n",
      "Your tickets are printing.\n"
     ]
    }
   ],
   "source": [
    "# Prompt the user until she gives me a legit number\n",
    "gotnum = False\n",
    "\n",
    "while gotnum == False:\n",
    "    prompt = \"How many tickets do you need? \" \n",
    "    num_tickets = input(prompt) \n",
    "    try: \n",
    "        num_tickets = int(num_tickets) #big test of conversation\n",
    "    except ValueError: \n",
    "        print(\"Please try again.\") \n",
    "        gotnum = False\n",
    "    else: \n",
    "        print(\"Your tickets are printing.\")\n",
    "        gotnum = True\n"
   ]
  },
  {
   "cell_type": "code",
   "execution_count": 7,
   "metadata": {},
   "outputs": [
    {
     "name": "stdout",
     "output_type": "stream",
     "text": [
      "Give me your file address try.txt\n",
      "Please try again.\n",
      "Give me your file address todaycityam.txt\n",
      "I have your file\n"
     ]
    }
   ],
   "source": [
    "# Write code to try to open a file in a while loop until we get it right\n",
    "# Prompt the user until she gives me a legit number\n",
    "\n",
    "test = False\n",
    "\n",
    "while test == False:\n",
    "    prompt = \"Give me your file address \" \n",
    "    file = input(prompt) \n",
    "    try: \n",
    "        with open(file) as file_object: # opens the file\n",
    "             lines = file_object.readlines()\n",
    "    except IOError: \n",
    "        print(\"Please try again.\") \n",
    "        test = False\n",
    "    else: \n",
    "        print(\"I have your file\")\n",
    "        test = True\n",
    "\n",
    "        \n",
    "#'C:/Users/Pairview Ltd/Desktop/todaycityam.txt' "
   ]
  },
  {
   "cell_type": "markdown",
   "metadata": {},
   "source": [
    "# Web Scraping\n",
    "\n",
    "# HTML quick overview\n",
    "<!DOCTYPE html>  \n",
    "<html>  \n",
    "    <head>\n",
    "    </head>\n",
    "    <body>\n",
    "        <h1> First Scraping </h1>\n",
    "        <p> Hello World </p>\n",
    "    <body>\n",
    "</html>\n"
   ]
  },
  {
   "cell_type": "markdown",
   "metadata": {},
   "source": [
    "# Scraping Rules\n",
    "\n",
    "You should check a website’s Terms and Conditions before you scrape it. Be careful to read the statements about legal use of data. Usually, the data you scrape should not be used for commercial purposes.\n",
    "\n",
    "Do not request data from the website too aggressively with your program (also known as spamming), as this may break the website. Make sure your program behaves in a reasonable manner (i.e. acts like a human). One request for one webpage per second is good practice.\n",
    "\n",
    "The layout of a website may change from time to time, so make sure to revisit the site and rewrite your code as needed"
   ]
  },
  {
   "cell_type": "code",
   "execution_count": null,
   "metadata": {},
   "outputs": [],
   "source": [
    "# import libraries\n",
    "import urllib.request\n",
    "from bs4 import BeautifulSoup\n",
    "\n",
    "# specify the url\n",
    "html_page = \"https://www.livescore.com/\"\n",
    "        \n",
    "# query the website and return the html to the variable ‘page’\n",
    "page = urllib.request.urlopen(html_page)\n",
    "\n",
    "# parse the html using beautiful soup and store in variable `soup`\n",
    "soup = BeautifulSoup(page, \"html.parser\")"
   ]
  },
  {
   "cell_type": "markdown",
   "metadata": {},
   "source": [
    "go to the html / tools / developper then right click on object or text you want, select inspect and the object in the html will highlight.  Righ click on the html highlight then copy/copy element and past it below \n",
    "paste here\n"
   ]
  },
  {
   "cell_type": "code",
   "execution_count": null,
   "metadata": {},
   "outputs": [],
   "source": [
    "# Take out the <div> of name and get its value\n",
    "#soup.find for the 1st occurence\n",
    "#soup.findall for all of them\n",
    "'''\n",
    "<h2 class=\"linkro-darkred\">\n",
    "    <a href=\"/news/article-6581511/Police-slammed-showing-CCTV-smartly-dressed-pickpocket-preying-elderly-Waitrose-shoppe.html\">Police are slammed for showing CCTV of smartly-dressed pickpocket preying on elderly Waitrose shopper... but protect crook's identity by BLURRING his face</a>\n",
    "  </h2>\n",
    "'''\n",
    "title_box = soup.findAll(\"h2\", class_= \"linkro-darkred\")\n",
    "print(title_box)"
   ]
  },
  {
   "cell_type": "code",
   "execution_count": null,
   "metadata": {},
   "outputs": [],
   "source": [
    "title=[]\n",
    "for occurence in title_box:\n",
    "    title.append(occurence.text.strip()) # strip() is used to remove starting and trailing\n",
    "\n",
    "print(title)              "
   ]
  },
  {
   "cell_type": "code",
   "execution_count": null,
   "metadata": {},
   "outputs": [],
   "source": [
    "# Take out the <div> of name and get its value\n",
    "#soup.find for the 1st occurence\n",
    "#soup.findall for all of them\n",
    "'''\n",
    "<p class=\"js-public-info\">\n",
    "\n",
    "examples of boxes type\n",
    "<span class=\"blablabla\"> =      -> \"span\", class_=\"blablabla\"\n",
    "<a\n",
    "<div class=\n",
    "<section class=\n",
    "<h2 class=\n",
    "<h3 class=\n",
    "<h1 class=\n",
    "<p class=\n",
    "<main id=\"blablabla\"             -> \"main\", id_=\"blablabla\"\n",
    "'''\n",
    "desc_box = soup.findAll(\"p\", class_= \"js-public-info\")\n",
    "#print(desc_box)\n",
    "\n",
    "desc=[]\n",
    "for occurence in desc_box:\n",
    "    desc.append(occurence.text.strip()) # strip() is used to remove starting and trailing\n",
    "\n",
    "print(desc[0])      \n",
    "if \"1 bed\" in desc[0]: print(\"it's a one-bedroom\")"
   ]
  },
  {
   "cell_type": "code",
   "execution_count": null,
   "metadata": {},
   "outputs": [],
   "source": [
    "# Take out the <div> of name and get its value\n",
    "#soup.find for the 1st occurence\n",
    "#soup.findall for all of them\n",
    "\n",
    "link_box = soup.findAll(\"a\")\n",
    "#print(title_box)\n",
    "link=[]\n",
    "for occurence in link_box:\n",
    "    link.append(occurence.get('href')) # strip() is used to remove starting and trailing\n",
    "\n",
    "print(link)     "
   ]
  }
 ],
 "metadata": {
  "kernelspec": {
   "display_name": "Python 3",
   "language": "python",
   "name": "python3"
  },
  "language_info": {
   "codemirror_mode": {
    "name": "ipython",
    "version": 3
   },
   "file_extension": ".py",
   "mimetype": "text/x-python",
   "name": "python",
   "nbconvert_exporter": "python",
   "pygments_lexer": "ipython3",
   "version": "3.7.0"
  }
 },
 "nbformat": 4,
 "nbformat_minor": 2
}
